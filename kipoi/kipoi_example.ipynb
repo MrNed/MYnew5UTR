{
  "cells": [
    {
      "cell_type": "markdown",
      "metadata": {
        "id": "view-in-github",
        "colab_type": "text"
      },
      "source": [
        "<a href=\"https://colab.research.google.com/github/MrNed/MYnew5UTR/blob/master/kipoi/kipoi_example.ipynb\" target=\"_parent\"><img src=\"https://colab.research.google.com/assets/colab-badge.svg\" alt=\"Open In Colab\"/></a>"
      ]
    },
    {
      "cell_type": "code",
      "source": [
        "!pip install -q condacolab\n",
        "import condacolab\n",
        "condacolab.install()"
      ],
      "metadata": {
        "id": "2UNEY3gJ3Zgv",
        "outputId": "0d6121dd-5d29-401c-93ae-82166c75bf60",
        "colab": {
          "base_uri": "https://localhost:8080/"
        }
      },
      "execution_count": 2,
      "outputs": [
        {
          "output_type": "stream",
          "name": "stdout",
          "text": [
            "⏬ Downloading https://github.com/jaimergp/miniforge/releases/download/24.11.2-1_colab/Miniforge3-colab-24.11.2-1_colab-Linux-x86_64.sh...\n",
            "📦 Installing...\n",
            "📌 Adjusting configuration...\n",
            "🩹 Patching environment...\n",
            "⏲ Done in 0:00:11\n",
            "🔁 Restarting kernel...\n"
          ]
        }
      ]
    },
    {
      "cell_type": "code",
      "source": [
        "import condacolab\n",
        "condacolab.check()"
      ],
      "metadata": {
        "id": "Ze3yVm2_3mKF",
        "outputId": "6065eaac-181f-473d-e6ec-91b7cc1842d1",
        "colab": {
          "base_uri": "https://localhost:8080/"
        }
      },
      "execution_count": 1,
      "outputs": [
        {
          "output_type": "stream",
          "name": "stdout",
          "text": [
            "✨🍰✨ Everything looks OK!\n"
          ]
        }
      ]
    },
    {
      "cell_type": "code",
      "source": [
        "     !conda env update -n base -f env.yml"
      ],
      "metadata": {
        "id": "sG3Kj_xj3nay",
        "outputId": "8537f429-d035-4be5-8fbb-b30f3817527f",
        "colab": {
          "base_uri": "https://localhost:8080/"
        }
      },
      "execution_count": 3,
      "outputs": [
        {
          "output_type": "stream",
          "name": "stdout",
          "text": [
            "\n",
            "EnvironmentFileNotFound: '/content/env.yml' file not found\n",
            "\n"
          ]
        }
      ]
    },
    {
      "cell_type": "code",
      "source": [
        "from google.colab import drive\n",
        "drive.mount('/content/drive')"
      ],
      "metadata": {
        "id": "FbxPhdT04Tf3",
        "outputId": "6a7ebf93-0678-4722-efd6-8822baf03146",
        "colab": {
          "base_uri": "https://localhost:8080/",
          "height": 316
        }
      },
      "execution_count": 5,
      "outputs": [
        {
          "output_type": "error",
          "ename": "MessageError",
          "evalue": "Error: credential propagation was unsuccessful",
          "traceback": [
            "\u001b[0;31m---------------------------------------------------------------------------\u001b[0m",
            "\u001b[0;31mMessageError\u001b[0m                              Traceback (most recent call last)",
            "\u001b[0;32m<ipython-input-5-d5df0069828e>\u001b[0m in \u001b[0;36m<cell line: 0>\u001b[0;34m()\u001b[0m\n\u001b[1;32m      1\u001b[0m \u001b[0;32mfrom\u001b[0m \u001b[0mgoogle\u001b[0m\u001b[0;34m.\u001b[0m\u001b[0mcolab\u001b[0m \u001b[0;32mimport\u001b[0m \u001b[0mdrive\u001b[0m\u001b[0;34m\u001b[0m\u001b[0;34m\u001b[0m\u001b[0m\n\u001b[0;32m----> 2\u001b[0;31m \u001b[0mdrive\u001b[0m\u001b[0;34m.\u001b[0m\u001b[0mmount\u001b[0m\u001b[0;34m(\u001b[0m\u001b[0;34m'/content/drive'\u001b[0m\u001b[0;34m)\u001b[0m\u001b[0;34m\u001b[0m\u001b[0;34m\u001b[0m\u001b[0m\n\u001b[0m",
            "\u001b[0;32m/usr/local/lib/python3.11/dist-packages/google/colab/drive.py\u001b[0m in \u001b[0;36mmount\u001b[0;34m(mountpoint, force_remount, timeout_ms, readonly)\u001b[0m\n\u001b[1;32m     98\u001b[0m \u001b[0;32mdef\u001b[0m \u001b[0mmount\u001b[0m\u001b[0;34m(\u001b[0m\u001b[0mmountpoint\u001b[0m\u001b[0;34m,\u001b[0m \u001b[0mforce_remount\u001b[0m\u001b[0;34m=\u001b[0m\u001b[0;32mFalse\u001b[0m\u001b[0;34m,\u001b[0m \u001b[0mtimeout_ms\u001b[0m\u001b[0;34m=\u001b[0m\u001b[0;36m120000\u001b[0m\u001b[0;34m,\u001b[0m \u001b[0mreadonly\u001b[0m\u001b[0;34m=\u001b[0m\u001b[0;32mFalse\u001b[0m\u001b[0;34m)\u001b[0m\u001b[0;34m:\u001b[0m\u001b[0;34m\u001b[0m\u001b[0;34m\u001b[0m\u001b[0m\n\u001b[1;32m     99\u001b[0m   \u001b[0;34m\"\"\"Mount your Google Drive at the specified mountpoint path.\"\"\"\u001b[0m\u001b[0;34m\u001b[0m\u001b[0;34m\u001b[0m\u001b[0m\n\u001b[0;32m--> 100\u001b[0;31m   return _mount(\n\u001b[0m\u001b[1;32m    101\u001b[0m       \u001b[0mmountpoint\u001b[0m\u001b[0;34m,\u001b[0m\u001b[0;34m\u001b[0m\u001b[0;34m\u001b[0m\u001b[0m\n\u001b[1;32m    102\u001b[0m       \u001b[0mforce_remount\u001b[0m\u001b[0;34m=\u001b[0m\u001b[0mforce_remount\u001b[0m\u001b[0;34m,\u001b[0m\u001b[0;34m\u001b[0m\u001b[0;34m\u001b[0m\u001b[0m\n",
            "\u001b[0;32m/usr/local/lib/python3.11/dist-packages/google/colab/drive.py\u001b[0m in \u001b[0;36m_mount\u001b[0;34m(mountpoint, force_remount, timeout_ms, ephemeral, readonly)\u001b[0m\n\u001b[1;32m    135\u001b[0m   )\n\u001b[1;32m    136\u001b[0m   \u001b[0;32mif\u001b[0m \u001b[0mephemeral\u001b[0m\u001b[0;34m:\u001b[0m\u001b[0;34m\u001b[0m\u001b[0;34m\u001b[0m\u001b[0m\n\u001b[0;32m--> 137\u001b[0;31m     _message.blocking_request(\n\u001b[0m\u001b[1;32m    138\u001b[0m         \u001b[0;34m'request_auth'\u001b[0m\u001b[0;34m,\u001b[0m\u001b[0;34m\u001b[0m\u001b[0;34m\u001b[0m\u001b[0m\n\u001b[1;32m    139\u001b[0m         \u001b[0mrequest\u001b[0m\u001b[0;34m=\u001b[0m\u001b[0;34m{\u001b[0m\u001b[0;34m'authType'\u001b[0m\u001b[0;34m:\u001b[0m \u001b[0;34m'dfs_ephemeral'\u001b[0m\u001b[0;34m}\u001b[0m\u001b[0;34m,\u001b[0m\u001b[0;34m\u001b[0m\u001b[0;34m\u001b[0m\u001b[0m\n",
            "\u001b[0;32m/usr/local/lib/python3.11/dist-packages/google/colab/_message.py\u001b[0m in \u001b[0;36mblocking_request\u001b[0;34m(request_type, request, timeout_sec, parent)\u001b[0m\n\u001b[1;32m    174\u001b[0m       \u001b[0mrequest_type\u001b[0m\u001b[0;34m,\u001b[0m \u001b[0mrequest\u001b[0m\u001b[0;34m,\u001b[0m \u001b[0mparent\u001b[0m\u001b[0;34m=\u001b[0m\u001b[0mparent\u001b[0m\u001b[0;34m,\u001b[0m \u001b[0mexpect_reply\u001b[0m\u001b[0;34m=\u001b[0m\u001b[0;32mTrue\u001b[0m\u001b[0;34m\u001b[0m\u001b[0;34m\u001b[0m\u001b[0m\n\u001b[1;32m    175\u001b[0m   )\n\u001b[0;32m--> 176\u001b[0;31m   \u001b[0;32mreturn\u001b[0m \u001b[0mread_reply_from_input\u001b[0m\u001b[0;34m(\u001b[0m\u001b[0mrequest_id\u001b[0m\u001b[0;34m,\u001b[0m \u001b[0mtimeout_sec\u001b[0m\u001b[0;34m)\u001b[0m\u001b[0;34m\u001b[0m\u001b[0;34m\u001b[0m\u001b[0m\n\u001b[0m",
            "\u001b[0;32m/usr/local/lib/python3.11/dist-packages/google/colab/_message.py\u001b[0m in \u001b[0;36mread_reply_from_input\u001b[0;34m(message_id, timeout_sec)\u001b[0m\n\u001b[1;32m    101\u001b[0m     ):\n\u001b[1;32m    102\u001b[0m       \u001b[0;32mif\u001b[0m \u001b[0;34m'error'\u001b[0m \u001b[0;32min\u001b[0m \u001b[0mreply\u001b[0m\u001b[0;34m:\u001b[0m\u001b[0;34m\u001b[0m\u001b[0;34m\u001b[0m\u001b[0m\n\u001b[0;32m--> 103\u001b[0;31m         \u001b[0;32mraise\u001b[0m \u001b[0mMessageError\u001b[0m\u001b[0;34m(\u001b[0m\u001b[0mreply\u001b[0m\u001b[0;34m[\u001b[0m\u001b[0;34m'error'\u001b[0m\u001b[0;34m]\u001b[0m\u001b[0;34m)\u001b[0m\u001b[0;34m\u001b[0m\u001b[0;34m\u001b[0m\u001b[0m\n\u001b[0m\u001b[1;32m    104\u001b[0m       \u001b[0;32mreturn\u001b[0m \u001b[0mreply\u001b[0m\u001b[0;34m.\u001b[0m\u001b[0mget\u001b[0m\u001b[0;34m(\u001b[0m\u001b[0;34m'data'\u001b[0m\u001b[0;34m,\u001b[0m \u001b[0;32mNone\u001b[0m\u001b[0;34m)\u001b[0m\u001b[0;34m\u001b[0m\u001b[0;34m\u001b[0m\u001b[0m\n\u001b[1;32m    105\u001b[0m \u001b[0;34m\u001b[0m\u001b[0m\n",
            "\u001b[0;31mMessageError\u001b[0m: Error: credential propagation was unsuccessful"
          ]
        }
      ]
    },
    {
      "cell_type": "code",
      "execution_count": 1,
      "metadata": {
        "id": "7W7RDbj722YW",
        "outputId": "de13196c-bcbb-436b-e755-b849fed0c3ad",
        "colab": {
          "base_uri": "https://localhost:8080/",
          "height": 378
        }
      },
      "outputs": [
        {
          "output_type": "error",
          "ename": "ModuleNotFoundError",
          "evalue": "No module named 'kipoi'",
          "traceback": [
            "\u001b[0;31m---------------------------------------------------------------------------\u001b[0m",
            "\u001b[0;31mModuleNotFoundError\u001b[0m                       Traceback (most recent call last)",
            "\u001b[0;32m<ipython-input-1-2f6bf20be802>\u001b[0m in \u001b[0;36m<cell line: 0>\u001b[0;34m()\u001b[0m\n\u001b[1;32m      1\u001b[0m \u001b[0;31m# Imports\u001b[0m\u001b[0;34m\u001b[0m\u001b[0;34m\u001b[0m\u001b[0m\n\u001b[0;32m----> 2\u001b[0;31m \u001b[0;32mimport\u001b[0m \u001b[0mkipoi\u001b[0m\u001b[0;34m\u001b[0m\u001b[0;34m\u001b[0m\u001b[0m\n\u001b[0m\u001b[1;32m      3\u001b[0m \u001b[0;32mimport\u001b[0m \u001b[0mos\u001b[0m\u001b[0;34m\u001b[0m\u001b[0;34m\u001b[0m\u001b[0m\n\u001b[1;32m      4\u001b[0m \u001b[0;32mimport\u001b[0m \u001b[0mnumpy\u001b[0m \u001b[0;32mas\u001b[0m \u001b[0mnp\u001b[0m\u001b[0;34m\u001b[0m\u001b[0;34m\u001b[0m\u001b[0m\n\u001b[1;32m      5\u001b[0m \u001b[0;32mimport\u001b[0m \u001b[0mpandas\u001b[0m \u001b[0;32mas\u001b[0m \u001b[0mpd\u001b[0m\u001b[0;34m\u001b[0m\u001b[0;34m\u001b[0m\u001b[0m\n",
            "\u001b[0;31mModuleNotFoundError\u001b[0m: No module named 'kipoi'",
            "",
            "\u001b[0;31m---------------------------------------------------------------------------\u001b[0;32m\nNOTE: If your import is failing due to a missing package, you can\nmanually install dependencies using either !pip or !apt.\n\nTo view examples of installing some common dependencies, click the\n\"Open Examples\" button below.\n\u001b[0;31m---------------------------------------------------------------------------\u001b[0m\n"
          ],
          "errorDetails": {
            "actions": [
              {
                "action": "open_url",
                "actionText": "Open Examples",
                "url": "/notebooks/snippets/importing_libraries.ipynb"
              }
            ]
          }
        }
      ],
      "source": [
        "# Imports\n",
        "import kipoi\n",
        "import os\n",
        "import numpy as np\n",
        "import pandas as pd\n",
        "\n",
        "import pickle\n",
        "from importlib import reload"
      ]
    },
    {
      "cell_type": "markdown",
      "metadata": {
        "id": "v6RoiYR422YX"
      },
      "source": [
        "### Test run\n",
        "Make a test run to see everything works properly"
      ]
    },
    {
      "cell_type": "code",
      "execution_count": null,
      "metadata": {
        "id": "A0HzaID_22YY",
        "outputId": "4ddca98c-f20f-4414-97fc-88a0ad67ab2b"
      },
      "outputs": [
        {
          "name": "stdout",
          "output_type": "stream",
          "text": [
            "\u001b[32mINFO\u001b[0m \u001b[44m[kipoi.data]\u001b[0m successfully loaded the dataloader 5UTR_Model/. from /data/ouga04b/ag_gagneur/home/karollus/5UTRModel/Collab/kipoi/5UTR_Model/dataloader.py::StrandedSequenceVariantDataloader\u001b[0m\n",
            "Using TensorFlow backend.\n",
            "2019-11-15 13:45:02.467640: I tensorflow/core/platform/cpu_feature_guard.cc:141] Your CPU supports instructions that this TensorFlow binary was not compiled to use: SSE4.1 SSE4.2 AVX AVX2 FMA\n",
            "2019-11-15 13:45:02.481898: I tensorflow/core/platform/profile_utils/cpu_utils.cc:94] CPU Frequency: 2095185000 Hz\n",
            "2019-11-15 13:45:02.484454: I tensorflow/compiler/xla/service/service.cc:150] XLA service 0x557fa01f0590 executing computations on platform Host. Devices:\n",
            "2019-11-15 13:45:02.484529: I tensorflow/compiler/xla/service/service.cc:158]   StreamExecutor device (0): <undefined>, <undefined>\n",
            "2019-11-15 13:45:03.992947: I tensorflow/compiler/xla/service/service.cc:150] XLA service 0x557fa0275590 executing computations on platform CUDA. Devices:\n",
            "2019-11-15 13:45:03.993062: I tensorflow/compiler/xla/service/service.cc:158]   StreamExecutor device (0): GeForce GTX TITAN X, Compute Capability 5.2\n",
            "2019-11-15 13:45:03.994738: I tensorflow/core/common_runtime/gpu/gpu_device.cc:1433] Found device 0 with properties: \n",
            "name: GeForce GTX TITAN X major: 5 minor: 2 memoryClockRate(GHz): 1.076\n",
            "pciBusID: 0000:0a:00.0\n",
            "totalMemory: 11.93GiB freeMemory: 11.82GiB\n",
            "2019-11-15 13:45:03.994836: I tensorflow/core/common_runtime/gpu/gpu_device.cc:1512] Adding visible gpu devices: 0\n",
            "2019-11-15 13:45:03.997345: I tensorflow/core/common_runtime/gpu/gpu_device.cc:984] Device interconnect StreamExecutor with strength 1 edge matrix:\n",
            "2019-11-15 13:45:03.997389: I tensorflow/core/common_runtime/gpu/gpu_device.cc:990]      0 \n",
            "2019-11-15 13:45:03.997409: I tensorflow/core/common_runtime/gpu/gpu_device.cc:1003] 0:   N \n",
            "2019-11-15 13:45:03.998547: I tensorflow/core/common_runtime/gpu/gpu_device.cc:1115] Created TensorFlow device (/job:localhost/replica:0/task:0/device:GPU:0 with 11498 MB memory) -> physical GPU (device: 0, name: GeForce GTX TITAN X, pci bus id: 0000:0a:00.0, compute capability: 5.2)\n",
            "\u001b[32mINFO\u001b[0m \u001b[44m[kipoi.pipeline]\u001b[0m dataloader.output_schema is compatible with model.schema\u001b[0m\n",
            "\u001b[32mINFO\u001b[0m \u001b[44m[kipoi.pipeline]\u001b[0m Initialized data generator. Running batches...\u001b[0m\n",
            "\u001b[32mINFO\u001b[0m \u001b[44m[kipoi.specs]\u001b[0m Example file for argument intervals_file already exists\u001b[0m\n",
            "\u001b[32mINFO\u001b[0m \u001b[44m[kipoi.specs]\u001b[0m Example file for argument fasta_file already exists\u001b[0m\n",
            "\u001b[32mINFO\u001b[0m \u001b[44m[kipoi.specs]\u001b[0m Example file for argument vcf_file already exists\u001b[0m\n",
            "Downloading https://zenodo.org/record/3374833/files/chr22utrVar1000gen_sorted.vcf.gz.tbi?download=1 to /data/ouga04b/ag_gagneur/home/karollus/5UTRModel/Collab/kipoi/5UTR_Model/downloaded/example_files/vcf_file_tbi\n",
            "8.19kB [00:00, 17.6kB/s]                                                        \n",
            "\u001b[32mINFO\u001b[0m \u001b[44m[kipoi.specs]\u001b[0m Example file for argument chr_order_file already exists\u001b[0m\n",
            "/data/ouga04b/ag_gagneur/home/karollus/.conda/envs/karollus-env/lib/python3.6/site-packages/kipoiseq/dataloaders/sequence.py:88: FutureWarning: read_table is deprecated, use read_csv instead.\n",
            "  sep='\\t')\n",
            "/data/ouga04b/ag_gagneur/home/karollus/.conda/envs/karollus-env/lib/python3.6/site-packages/kipoiseq/dataloaders/sequence.py:100: FutureWarning: read_table is deprecated, use read_csv instead.\n",
            "  sep='\\t')\n",
            "\u001b[32mINFO\u001b[0m \u001b[44m[kipoi.pipeline]\u001b[0m Returned data schema correct\u001b[0m\n",
            "  0%|                                                    | 0/36 [00:00<?, ?it/s]2019-11-15 13:45:11.487238: I tensorflow/stream_executor/dso_loader.cc:152] successfully opened CUDA library libcublas.so.10.0 locally\n",
            "100%|███████████████████████████████████████████| 36/36 [00:12<00:00,  3.41it/s]\n",
            "\u001b[32mINFO\u001b[0m \u001b[44m[kipoi.pipeline]\u001b[0m predict_example done!\u001b[0m\n",
            "\u001b[32mINFO\u001b[0m \u001b[44m[kipoi.cli.main]\u001b[0m Successfully ran test_predict\u001b[0m\n"
          ]
        }
      ],
      "source": [
        "!kipoi test \"5UTR_Model\""
      ]
    },
    {
      "cell_type": "markdown",
      "metadata": {
        "id": "UbHH88SN22YZ"
      },
      "source": [
        "### Load the model"
      ]
    },
    {
      "cell_type": "code",
      "execution_count": null,
      "metadata": {
        "id": "rYL2Av2d22YZ"
      },
      "outputs": [],
      "source": [
        "# Source model\n",
        "model = kipoi.get_model(\"5UTR_Model\", source=\"dir\")"
      ]
    },
    {
      "cell_type": "markdown",
      "metadata": {
        "id": "i28kbtN322YZ"
      },
      "source": [
        "### Provide the parameters\n",
        "The dataloader needs a fasta, bgzip compressed vcf and bed3+ input files, where a specific user-specified column (>3, 1-based) of the bed denotes the strandand a specific user-specified column (>3, 1-based) of the bed denotes the transcript id (or some other id that explains which exons in the bed belong together to form one utr). Additionally, a file can be provided that defines the chromosome order, if it is not alphanumeric (or lexicographic in case there is no chr prefix). The ordering specified in this file must be valid for vcf and bed! All columns of the bed, except the first three, the id and the strand, are ignored. The bed and vcf must both be sorted (by position) and a tabix index must be present (must lie in the same directory and have the same name + .tbi). The num_chr flag indicates whether chromosomes are listed numerically or with a chr prefix.This must be consistent across all input files!"
      ]
    },
    {
      "cell_type": "code",
      "execution_count": null,
      "metadata": {
        "id": "jzsE9YV122YZ"
      },
      "outputs": [],
      "source": [
        "# Path of the vcf file\n",
        "vcf_path = \"TestFiles/patho.vcf.gz\"\n",
        "\n",
        "# Path of the fasta file\n",
        "fasta_path = \"/s/genomes/human/hg19/fasta/hg19.fa\"\n",
        "# Set true if fasta has no chr prefix, false otherwise\n",
        "num_chr = False\n",
        "\n",
        "# Path of the bed file specifying human 5utr\n",
        "# If chr prefix is present, use:\n",
        "# gencodev19_5utr_sorted.bed, else:\n",
        "# gencodev19_5utr_sorted_noprefix.bed\n",
        "bed_path = \"TestFiles/gencodev19_5utr_sorted.bed\"\n",
        "id_column = 4\n",
        "\n",
        "#\n",
        "#chr_order_file = \"TestFiles/chrom_order_noprefix.txt\"\n",
        "\n",
        "# output file path\n",
        "output_file_path = \"patho.tsv\"\n",
        "\n",
        "# id map path\n",
        "id_map_path = \"TestFiles/hg19_idmap.tsv\""
      ]
    },
    {
      "cell_type": "markdown",
      "metadata": {
        "id": "NDudRElR22Ya"
      },
      "source": [
        "### Run Prediction"
      ]
    },
    {
      "cell_type": "code",
      "execution_count": null,
      "metadata": {
        "id": "H1bRcZ4b22Ya",
        "outputId": "bb04c809-93fb-4253-d364-ba08a126512c"
      },
      "outputs": [
        {
          "name": "stderr",
          "output_type": "stream",
          "text": [
            "/data/ouga04b/ag_gagneur/home/karollus/.conda/envs/karollus-env/lib/python3.6/site-packages/kipoiseq/dataloaders/sequence.py:81: FutureWarning: read_table is deprecated, use read_csv instead.\n",
            "  sep='\\t')\n",
            "/data/ouga04b/ag_gagneur/home/karollus/.conda/envs/karollus-env/lib/python3.6/site-packages/kipoiseq/dataloaders/sequence.py:93: FutureWarning: read_table is deprecated, use read_csv instead.\n",
            "  sep='\\t')\n",
            "\n",
            "  0%|          | 0/1 [00:00<?, ?it/s]\u001b[A\n",
            "100%|██████████| 1/1 [00:03<00:00,  3.81s/it]\u001b[A"
          ]
        }
      ],
      "source": [
        "model.pipeline.predict_to_file(output_file_path, {\"intervals_file\":bed_path,\n",
        "                               \"fasta_file\":fasta_path,\n",
        "                               \"vcf_file\":vcf_path,\n",
        "                               \"id_column\":id_column,\n",
        "                               \"num_chr\":num_chr},\n",
        "                              batch_size=64)"
      ]
    },
    {
      "cell_type": "markdown",
      "metadata": {
        "id": "28G6tvRU22Ya"
      },
      "source": [
        "### Merge with Gene Names and show output"
      ]
    },
    {
      "cell_type": "code",
      "execution_count": null,
      "metadata": {
        "id": "QbqXr_eO22Ya"
      },
      "outputs": [],
      "source": [
        "# Load data as dataframe and merge with gene names\n",
        "df = pd.read_csv(output_file_path, sep=\"\\t\")\n",
        "df = df.rename(index=str, columns={\"metadata/chr\":\"chr\",\n",
        "          \"metadata/exon_positions\":\"exon_positions\",\n",
        "          \"metadata/id\":\"transcript_id\",\n",
        "          \"metadata/strand\":\"strand\",\n",
        "          \"metadata/variants\":\"variants\",\n",
        "          \"preds/mrl_fold_change\":\"mrl_fold_change\",\n",
        "          \"preds/shift_1\":\"shift_1\",\n",
        "          \"preds/shift_2\":\"shift_2\"}\n",
        ")\n",
        "\n",
        "# Id map\n",
        "df_map = pd.read_csv(id_map_path, sep=\"\\t\")\n",
        "df = df.merge(df_map, on=\"transcript_id\")"
      ]
    },
    {
      "cell_type": "code",
      "execution_count": null,
      "metadata": {
        "id": "SzF6JCSq22Ya",
        "outputId": "ab685e05-6df6-41e7-fecc-b6c9005457d0"
      },
      "outputs": [
        {
          "data": {
            "text/html": [
              "<div>\n",
              "<style scoped>\n",
              "    .dataframe tbody tr th:only-of-type {\n",
              "        vertical-align: middle;\n",
              "    }\n",
              "\n",
              "    .dataframe tbody tr th {\n",
              "        vertical-align: top;\n",
              "    }\n",
              "\n",
              "    .dataframe thead th {\n",
              "        text-align: right;\n",
              "    }\n",
              "</style>\n",
              "<table border=\"1\" class=\"dataframe\">\n",
              "  <thead>\n",
              "    <tr style=\"text-align: right;\">\n",
              "      <th></th>\n",
              "      <th>chr</th>\n",
              "      <th>exon_positions</th>\n",
              "      <th>transcript_id</th>\n",
              "      <th>strand</th>\n",
              "      <th>variants</th>\n",
              "      <th>mrl_fold_change</th>\n",
              "      <th>shift_1</th>\n",
              "      <th>shift_2</th>\n",
              "      <th>gene_id</th>\n",
              "      <th>gene_name</th>\n",
              "    </tr>\n",
              "  </thead>\n",
              "  <tbody>\n",
              "    <tr>\n",
              "      <th>0</th>\n",
              "      <td>chr7</td>\n",
              "      <td>19156944-19157295</td>\n",
              "      <td>ENST00000242261</td>\n",
              "      <td>-</td>\n",
              "      <td>chr7:19157207:G&gt;T;chr7:19157225:C&gt;A</td>\n",
              "      <td>-0.789764</td>\n",
              "      <td>-0.395907</td>\n",
              "      <td>-0.773174</td>\n",
              "      <td>ENSG00000122691</td>\n",
              "      <td>TWIST1</td>\n",
              "    </tr>\n",
              "    <tr>\n",
              "      <th>1</th>\n",
              "      <td>chr2</td>\n",
              "      <td>96931119-96931250;96931606-96931732</td>\n",
              "      <td>ENST00000258439</td>\n",
              "      <td>-</td>\n",
              "      <td>chr2:96931137:G&gt;A</td>\n",
              "      <td>-1.285575</td>\n",
              "      <td>-1.012779</td>\n",
              "      <td>0.028387</td>\n",
              "      <td>ENSG00000135956</td>\n",
              "      <td>TMEM127</td>\n",
              "    </tr>\n",
              "    <tr>\n",
              "      <th>2</th>\n",
              "      <td>chr3</td>\n",
              "      <td>98312348-98312567</td>\n",
              "      <td>ENST00000264193</td>\n",
              "      <td>-</td>\n",
              "      <td>chr3:98312358:C&gt;T</td>\n",
              "      <td>-1.006342</td>\n",
              "      <td>-0.834495</td>\n",
              "      <td>0.085337</td>\n",
              "      <td>ENSG00000080819</td>\n",
              "      <td>CPOX</td>\n",
              "    </tr>\n",
              "    <tr>\n",
              "      <th>3</th>\n",
              "      <td>chr5</td>\n",
              "      <td>147211140-147211349</td>\n",
              "      <td>ENST00000296695</td>\n",
              "      <td>-</td>\n",
              "      <td>chr5:147211193:G&gt;A</td>\n",
              "      <td>-0.361473</td>\n",
              "      <td>-0.218929</td>\n",
              "      <td>-0.283831</td>\n",
              "      <td>ENSG00000164266</td>\n",
              "      <td>SPINK1</td>\n",
              "    </tr>\n",
              "    <tr>\n",
              "      <th>4</th>\n",
              "      <td>chr9</td>\n",
              "      <td>21974826-21975097</td>\n",
              "      <td>ENST00000304494</td>\n",
              "      <td>-</td>\n",
              "      <td>chr9:21974860:C&gt;A</td>\n",
              "      <td>-0.910533</td>\n",
              "      <td>-0.525239</td>\n",
              "      <td>-1.060424</td>\n",
              "      <td>ENSG00000147889</td>\n",
              "      <td>CDKN2A</td>\n",
              "    </tr>\n",
              "    <tr>\n",
              "      <th>5</th>\n",
              "      <td>chr11</td>\n",
              "      <td>5248251-5248301</td>\n",
              "      <td>ENST00000335295</td>\n",
              "      <td>-</td>\n",
              "      <td>chr11:5248280:C&gt;T</td>\n",
              "      <td>-0.828528</td>\n",
              "      <td>0.006580</td>\n",
              "      <td>-0.919977</td>\n",
              "      <td>ENSG00000244734</td>\n",
              "      <td>HBB</td>\n",
              "    </tr>\n",
              "    <tr>\n",
              "      <th>6</th>\n",
              "      <td>chr1</td>\n",
              "      <td>209974758-209974761;209975316-209975388;209979...</td>\n",
              "      <td>ENST00000367021</td>\n",
              "      <td>-</td>\n",
              "      <td>chr1:209975361:T&gt;A</td>\n",
              "      <td>-1.068000</td>\n",
              "      <td>-0.861996</td>\n",
              "      <td>0.055964</td>\n",
              "      <td>ENSG00000117595</td>\n",
              "      <td>IRF6</td>\n",
              "    </tr>\n",
              "    <tr>\n",
              "      <th>7</th>\n",
              "      <td>chr1</td>\n",
              "      <td>93297581-93297671</td>\n",
              "      <td>ENST00000370321</td>\n",
              "      <td>+</td>\n",
              "      <td>chr1:93297626:C&gt;A</td>\n",
              "      <td>-0.799757</td>\n",
              "      <td>-0.670084</td>\n",
              "      <td>0.025305</td>\n",
              "      <td>ENSG00000122406</td>\n",
              "      <td>RPL5</td>\n",
              "    </tr>\n",
              "    <tr>\n",
              "      <th>8</th>\n",
              "      <td>chr17</td>\n",
              "      <td>66508542-66508720;66511534-66511540</td>\n",
              "      <td>ENST00000392711</td>\n",
              "      <td>+</td>\n",
              "      <td>chr17:66508599:G&gt;A</td>\n",
              "      <td>-1.025860</td>\n",
              "      <td>0.015113</td>\n",
              "      <td>-1.124092</td>\n",
              "      <td>ENSG00000108946</td>\n",
              "      <td>PRKAR1A</td>\n",
              "    </tr>\n",
              "    <tr>\n",
              "      <th>9</th>\n",
              "      <td>chr2</td>\n",
              "      <td>96931119-96931227;96931606-96931732</td>\n",
              "      <td>ENST00000432959</td>\n",
              "      <td>-</td>\n",
              "      <td>chr2:96931137:G&gt;A</td>\n",
              "      <td>-1.029096</td>\n",
              "      <td>-0.896816</td>\n",
              "      <td>-0.570133</td>\n",
              "      <td>ENSG00000135956</td>\n",
              "      <td>TMEM127</td>\n",
              "    </tr>\n",
              "    <tr>\n",
              "      <th>10</th>\n",
              "      <td>chr9</td>\n",
              "      <td>21974826-21975038</td>\n",
              "      <td>ENST00000446177</td>\n",
              "      <td>-</td>\n",
              "      <td>chr9:21974860:C&gt;A</td>\n",
              "      <td>-0.982123</td>\n",
              "      <td>-0.552211</td>\n",
              "      <td>-1.042604</td>\n",
              "      <td>ENSG00000147889</td>\n",
              "      <td>CDKN2A</td>\n",
              "    </tr>\n",
              "    <tr>\n",
              "      <th>11</th>\n",
              "      <td>chr9</td>\n",
              "      <td>21974826-21974865</td>\n",
              "      <td>ENST00000498124</td>\n",
              "      <td>-</td>\n",
              "      <td>chr9:21974860:C&gt;A</td>\n",
              "      <td>-1.020021</td>\n",
              "      <td>-0.026780</td>\n",
              "      <td>-1.134101</td>\n",
              "      <td>ENSG00000147889</td>\n",
              "      <td>CDKN2A</td>\n",
              "    </tr>\n",
              "    <tr>\n",
              "      <th>12</th>\n",
              "      <td>chr5</td>\n",
              "      <td>147211140-147211198</td>\n",
              "      <td>ENST00000510027</td>\n",
              "      <td>-</td>\n",
              "      <td>chr5:147211193:G&gt;A</td>\n",
              "      <td>-0.818441</td>\n",
              "      <td>-0.669264</td>\n",
              "      <td>-0.730059</td>\n",
              "      <td>ENSG00000164266</td>\n",
              "      <td>SPINK1</td>\n",
              "    </tr>\n",
              "    <tr>\n",
              "      <th>13</th>\n",
              "      <td>chr17</td>\n",
              "      <td>66508590-66508689;66511127-66511260;66511534-6...</td>\n",
              "      <td>ENST00000536854</td>\n",
              "      <td>+</td>\n",
              "      <td>chr17:66508599:G&gt;A</td>\n",
              "      <td>-0.142158</td>\n",
              "      <td>-0.277853</td>\n",
              "      <td>-0.063634</td>\n",
              "      <td>ENSG00000108946</td>\n",
              "      <td>PRKAR1A</td>\n",
              "    </tr>\n",
              "    <tr>\n",
              "      <th>14</th>\n",
              "      <td>chr17</td>\n",
              "      <td>66508567-66508689;66511534-66511540</td>\n",
              "      <td>ENST00000589228</td>\n",
              "      <td>+</td>\n",
              "      <td>chr17:66508599:G&gt;A</td>\n",
              "      <td>-1.129289</td>\n",
              "      <td>-0.975691</td>\n",
              "      <td>0.034666</td>\n",
              "      <td>ENSG00000108946</td>\n",
              "      <td>PRKAR1A</td>\n",
              "    </tr>\n",
              "  </tbody>\n",
              "</table>\n",
              "</div>"
            ],
            "text/plain": [
              "      chr                                     exon_positions    transcript_id  \\\n",
              "0    chr7                                  19156944-19157295  ENST00000242261   \n",
              "1    chr2                96931119-96931250;96931606-96931732  ENST00000258439   \n",
              "2    chr3                                  98312348-98312567  ENST00000264193   \n",
              "3    chr5                                147211140-147211349  ENST00000296695   \n",
              "4    chr9                                  21974826-21975097  ENST00000304494   \n",
              "5   chr11                                    5248251-5248301  ENST00000335295   \n",
              "6    chr1  209974758-209974761;209975316-209975388;209979...  ENST00000367021   \n",
              "7    chr1                                  93297581-93297671  ENST00000370321   \n",
              "8   chr17                66508542-66508720;66511534-66511540  ENST00000392711   \n",
              "9    chr2                96931119-96931227;96931606-96931732  ENST00000432959   \n",
              "10   chr9                                  21974826-21975038  ENST00000446177   \n",
              "11   chr9                                  21974826-21974865  ENST00000498124   \n",
              "12   chr5                                147211140-147211198  ENST00000510027   \n",
              "13  chr17  66508590-66508689;66511127-66511260;66511534-6...  ENST00000536854   \n",
              "14  chr17                66508567-66508689;66511534-66511540  ENST00000589228   \n",
              "\n",
              "   strand                             variants  mrl_fold_change   shift_1  \\\n",
              "0       -  chr7:19157207:G>T;chr7:19157225:C>A        -0.789764 -0.395907   \n",
              "1       -                    chr2:96931137:G>A        -1.285575 -1.012779   \n",
              "2       -                    chr3:98312358:C>T        -1.006342 -0.834495   \n",
              "3       -                   chr5:147211193:G>A        -0.361473 -0.218929   \n",
              "4       -                    chr9:21974860:C>A        -0.910533 -0.525239   \n",
              "5       -                    chr11:5248280:C>T        -0.828528  0.006580   \n",
              "6       -                   chr1:209975361:T>A        -1.068000 -0.861996   \n",
              "7       +                    chr1:93297626:C>A        -0.799757 -0.670084   \n",
              "8       +                   chr17:66508599:G>A        -1.025860  0.015113   \n",
              "9       -                    chr2:96931137:G>A        -1.029096 -0.896816   \n",
              "10      -                    chr9:21974860:C>A        -0.982123 -0.552211   \n",
              "11      -                    chr9:21974860:C>A        -1.020021 -0.026780   \n",
              "12      -                   chr5:147211193:G>A        -0.818441 -0.669264   \n",
              "13      +                   chr17:66508599:G>A        -0.142158 -0.277853   \n",
              "14      +                   chr17:66508599:G>A        -1.129289 -0.975691   \n",
              "\n",
              "     shift_2          gene_id gene_name  \n",
              "0  -0.773174  ENSG00000122691    TWIST1  \n",
              "1   0.028387  ENSG00000135956   TMEM127  \n",
              "2   0.085337  ENSG00000080819      CPOX  \n",
              "3  -0.283831  ENSG00000164266    SPINK1  \n",
              "4  -1.060424  ENSG00000147889    CDKN2A  \n",
              "5  -0.919977  ENSG00000244734       HBB  \n",
              "6   0.055964  ENSG00000117595      IRF6  \n",
              "7   0.025305  ENSG00000122406      RPL5  \n",
              "8  -1.124092  ENSG00000108946   PRKAR1A  \n",
              "9  -0.570133  ENSG00000135956   TMEM127  \n",
              "10 -1.042604  ENSG00000147889    CDKN2A  \n",
              "11 -1.134101  ENSG00000147889    CDKN2A  \n",
              "12 -0.730059  ENSG00000164266    SPINK1  \n",
              "13 -0.063634  ENSG00000108946   PRKAR1A  \n",
              "14  0.034666  ENSG00000108946   PRKAR1A  "
            ]
          },
          "execution_count": 10,
          "metadata": {},
          "output_type": "execute_result"
        }
      ],
      "source": [
        "df"
      ]
    }
  ],
  "metadata": {
    "kernelspec": {
      "display_name": "Python 3",
      "language": "python",
      "name": "python3"
    },
    "language_info": {
      "codemirror_mode": {
        "name": "ipython",
        "version": 3
      },
      "file_extension": ".py",
      "mimetype": "text/x-python",
      "name": "python",
      "nbconvert_exporter": "python",
      "pygments_lexer": "ipython3",
      "version": "3.7.9"
    },
    "colab": {
      "provenance": [],
      "include_colab_link": true
    }
  },
  "nbformat": 4,
  "nbformat_minor": 0
}